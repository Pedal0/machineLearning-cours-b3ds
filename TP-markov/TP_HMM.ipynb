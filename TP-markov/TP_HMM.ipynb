{
 "cells": [
  {
   "cell_type": "code",
   "execution_count": 1,
   "metadata": {},
   "outputs": [],
   "source": [
    "import numpy as np \n",
    "import pandas as pd\n",
    "import yfinance as yf\n",
    "import datetime\n",
    "import time\n",
    "import requests\n",
    "import io \n"
   ]
  },
  {
   "cell_type": "markdown",
   "metadata": {},
   "source": [
    "I- Extraction Data From Yahoo Finance"
   ]
  },
  {
   "cell_type": "code",
   "execution_count": 2,
   "metadata": {},
   "outputs": [
    {
     "name": "stderr",
     "output_type": "stream",
     "text": [
      "[*********************100%***********************]  1 of 1 completed\n"
     ]
    }
   ],
   "source": [
    "data = yf.download(\"^GSPC\", start = \"2000-01-01\", end=\"2023-12-31\")\n",
    "GSPC='GSPC_data.csv'\n",
    "data.to_csv(GSPC)"
   ]
  },
  {
   "cell_type": "markdown",
   "metadata": {},
   "source": [
    "II- Load CSV File "
   ]
  },
  {
   "cell_type": "code",
   "execution_count": 3,
   "metadata": {},
   "outputs": [],
   "source": [
    "data_csv=pd.read_csv(\"C:/Users/alcat/Downloads/EPSI Toulouse/Cours ESPI/Machine Learning/TP/TP HMM/GSPC_data.csv\")"
   ]
  },
  {
   "cell_type": "markdown",
   "metadata": {},
   "source": [
    "III- Preprocessing"
   ]
  },
  {
   "cell_type": "code",
   "execution_count": 4,
   "metadata": {},
   "outputs": [
    {
     "data": {
      "text/html": [
       "<div>\n",
       "<style scoped>\n",
       "    .dataframe tbody tr th:only-of-type {\n",
       "        vertical-align: middle;\n",
       "    }\n",
       "\n",
       "    .dataframe tbody tr th {\n",
       "        vertical-align: top;\n",
       "    }\n",
       "\n",
       "    .dataframe thead tr th {\n",
       "        text-align: left;\n",
       "    }\n",
       "\n",
       "    .dataframe thead tr:last-of-type th {\n",
       "        text-align: right;\n",
       "    }\n",
       "</style>\n",
       "<table border=\"1\" class=\"dataframe\">\n",
       "  <thead>\n",
       "    <tr>\n",
       "      <th>Price</th>\n",
       "      <th>Adj Close</th>\n",
       "      <th>Close</th>\n",
       "      <th>High</th>\n",
       "      <th>Low</th>\n",
       "      <th>Open</th>\n",
       "      <th>Volume</th>\n",
       "    </tr>\n",
       "    <tr>\n",
       "      <th>Ticker</th>\n",
       "      <th>^GSPC</th>\n",
       "      <th>^GSPC</th>\n",
       "      <th>^GSPC</th>\n",
       "      <th>^GSPC</th>\n",
       "      <th>^GSPC</th>\n",
       "      <th>^GSPC</th>\n",
       "    </tr>\n",
       "    <tr>\n",
       "      <th>Date</th>\n",
       "      <th></th>\n",
       "      <th></th>\n",
       "      <th></th>\n",
       "      <th></th>\n",
       "      <th></th>\n",
       "      <th></th>\n",
       "    </tr>\n",
       "  </thead>\n",
       "  <tbody>\n",
       "    <tr>\n",
       "      <th>2000-01-03 00:00:00+00:00</th>\n",
       "      <td>1455.219971</td>\n",
       "      <td>1455.219971</td>\n",
       "      <td>1478.000000</td>\n",
       "      <td>1438.359985</td>\n",
       "      <td>1469.250000</td>\n",
       "      <td>931800000</td>\n",
       "    </tr>\n",
       "    <tr>\n",
       "      <th>2000-01-04 00:00:00+00:00</th>\n",
       "      <td>1399.420044</td>\n",
       "      <td>1399.420044</td>\n",
       "      <td>1455.219971</td>\n",
       "      <td>1397.430054</td>\n",
       "      <td>1455.219971</td>\n",
       "      <td>1009000000</td>\n",
       "    </tr>\n",
       "    <tr>\n",
       "      <th>2000-01-05 00:00:00+00:00</th>\n",
       "      <td>1402.109985</td>\n",
       "      <td>1402.109985</td>\n",
       "      <td>1413.270020</td>\n",
       "      <td>1377.680054</td>\n",
       "      <td>1399.420044</td>\n",
       "      <td>1085500000</td>\n",
       "    </tr>\n",
       "    <tr>\n",
       "      <th>2000-01-06 00:00:00+00:00</th>\n",
       "      <td>1403.449951</td>\n",
       "      <td>1403.449951</td>\n",
       "      <td>1411.900024</td>\n",
       "      <td>1392.099976</td>\n",
       "      <td>1402.109985</td>\n",
       "      <td>1092300000</td>\n",
       "    </tr>\n",
       "    <tr>\n",
       "      <th>2000-01-07 00:00:00+00:00</th>\n",
       "      <td>1441.469971</td>\n",
       "      <td>1441.469971</td>\n",
       "      <td>1441.469971</td>\n",
       "      <td>1400.729980</td>\n",
       "      <td>1403.449951</td>\n",
       "      <td>1225200000</td>\n",
       "    </tr>\n",
       "  </tbody>\n",
       "</table>\n",
       "</div>"
      ],
      "text/plain": [
       "Price                        Adj Close        Close         High          Low  \\\n",
       "Ticker                           ^GSPC        ^GSPC        ^GSPC        ^GSPC   \n",
       "Date                                                                            \n",
       "2000-01-03 00:00:00+00:00  1455.219971  1455.219971  1478.000000  1438.359985   \n",
       "2000-01-04 00:00:00+00:00  1399.420044  1399.420044  1455.219971  1397.430054   \n",
       "2000-01-05 00:00:00+00:00  1402.109985  1402.109985  1413.270020  1377.680054   \n",
       "2000-01-06 00:00:00+00:00  1403.449951  1403.449951  1411.900024  1392.099976   \n",
       "2000-01-07 00:00:00+00:00  1441.469971  1441.469971  1441.469971  1400.729980   \n",
       "\n",
       "Price                             Open      Volume  \n",
       "Ticker                           ^GSPC       ^GSPC  \n",
       "Date                                                \n",
       "2000-01-03 00:00:00+00:00  1469.250000   931800000  \n",
       "2000-01-04 00:00:00+00:00  1455.219971  1009000000  \n",
       "2000-01-05 00:00:00+00:00  1399.420044  1085500000  \n",
       "2000-01-06 00:00:00+00:00  1402.109985  1092300000  \n",
       "2000-01-07 00:00:00+00:00  1403.449951  1225200000  "
      ]
     },
     "execution_count": 4,
     "metadata": {},
     "output_type": "execute_result"
    }
   ],
   "source": [
    "data.head()"
   ]
  },
  {
   "cell_type": "code",
   "execution_count": 5,
   "metadata": {},
   "outputs": [
    {
     "data": {
      "text/plain": [
       "(6037, 6)"
      ]
     },
     "execution_count": 5,
     "metadata": {},
     "output_type": "execute_result"
    }
   ],
   "source": [
    "data.shape"
   ]
  },
  {
   "cell_type": "code",
   "execution_count": 6,
   "metadata": {},
   "outputs": [
    {
     "name": "stdout",
     "output_type": "stream",
     "text": [
      "4829\n"
     ]
    }
   ],
   "source": [
    "train_size = int(0.8*data.shape[0])\n",
    "print(train_size)"
   ]
  },
  {
   "cell_type": "code",
   "execution_count": 7,
   "metadata": {},
   "outputs": [],
   "source": [
    "train_data = data.iloc[0 : train_size]\n",
    "test_data = data.iloc[train_size+1 :]"
   ]
  },
  {
   "cell_type": "markdown",
   "metadata": {},
   "source": [
    "IV- Extracting Features"
   ]
  },
  {
   "cell_type": "code",
   "execution_count": 8,
   "metadata": {},
   "outputs": [],
   "source": [
    "def augment_features(dataframe):\n",
    "    fracocp = (dataframe['Close'] - dataframe['Open']) / dataframe['Open']\n",
    "    frachp = (dataframe['High'] - dataframe['Open']) / dataframe['Open']\n",
    "    fraclp = (dataframe['Open'] - dataframe['Low']) / dataframe['Open']\n",
    "\n",
    "    # Transformer les tableaux 2D en vecteurs 1D avec .squeeze() ou .ravel()\n",
    "    fracocp = fracocp.squeeze()  # ou .ravel()\n",
    "    frachp = frachp.squeeze()\n",
    "    fraclp = fraclp.squeeze()\n",
    "\n",
    "    # Créer le DataFrame avec des colonnes 1D\n",
    "    new_dataframe = pd.DataFrame({\n",
    "        'delOpenClose': fracocp,\n",
    "        'delHighOpen': frachp,\n",
    "        'delLowOpen': fraclp\n",
    "    }, index=dataframe.index)\n",
    "\n",
    "    return new_dataframe\n"
   ]
  },
  {
   "cell_type": "code",
   "execution_count": 9,
   "metadata": {},
   "outputs": [],
   "source": [
    "def extract_features(dataframe):\n",
    " return np.column_stack((dataframe['delOpenClose'], dataframe['delHighOpen'], dataframe['delLowOpen']))\n"
   ]
  },
  {
   "cell_type": "code",
   "execution_count": 31,
   "metadata": {},
   "outputs": [],
   "source": [
    "# Appliquer strip() sur le premier niveau des colonnes\n",
    "train_data.columns = train_data.columns.set_levels(train_data.columns.levels[0].str.strip(), level=0)\n",
    "features = extract_features(augment_features(train_data))"
   ]
  },
  {
   "cell_type": "code",
   "execution_count": null,
   "metadata": {},
   "outputs": [],
   "source": [
    "features.shape"
   ]
  },
  {
   "cell_type": "markdown",
   "metadata": {},
   "source": [
    "V- Hidden Markov Model with HMMlearn"
   ]
  },
  {
   "cell_type": "code",
   "execution_count": 33,
   "metadata": {},
   "outputs": [],
   "source": [
    "# pip install hmmlearn\n",
    "from hmmlearn.hmm import GaussianHMM"
   ]
  },
  {
   "cell_type": "code",
   "execution_count": 34,
   "metadata": {},
   "outputs": [],
   "source": [
    "model = GaussianHMM(n_components= 10)"
   ]
  },
  {
   "cell_type": "code",
   "execution_count": null,
   "metadata": {},
   "outputs": [],
   "source": [
    "features_train_data = augment_features(train_data)\n",
    "features_train = extract_features(features_train_data)\n",
    "model.fit(features_train)"
   ]
  },
  {
   "cell_type": "markdown",
   "metadata": {},
   "source": [
    "VI- Generating possible sequences"
   ]
  },
  {
   "cell_type": "code",
   "execution_count": 36,
   "metadata": {},
   "outputs": [],
   "source": [
    "import itertools\n",
    "\n",
    "test_augmented = augment_features(test_data)\n",
    "fracocp = test_augmented ['delOpenClose']\n",
    "frachp = test_augmented ['delHighOpen']\n",
    "fraclp = test_augmented ['delLowOpen']\n",
    "\n",
    "sample_space_fracocp = np.linspace(fracocp.min(), fracocp.max(), 50)\n",
    "sample_space_fraclp = np.linspace(fraclp.min(), fraclp.max(), 10)\n",
    "sample_space_frachp = np.linspace(frachp.min(), frachp.max(), 10)\n",
    "\n",
    "possible_outcomes = np.array(list(itertools.product(sample_space_fracocp, sample_space_frachp, sample_space_fraclp)))"
   ]
  },
  {
   "cell_type": "markdown",
   "metadata": {},
   "source": [
    "VII- Checking predictions"
   ]
  },
  {
   "cell_type": "code",
   "execution_count": 37,
   "metadata": {},
   "outputs": [],
   "source": [
    "num_latent_days = 10 # 50\n",
    "num_days_to_predict = 50 # 300"
   ]
  },
  {
   "cell_type": "code",
   "execution_count": null,
   "metadata": {},
   "outputs": [],
   "source": [
    "# Pip install tqdm\n",
    "from tqdm import tqdm # visualiser la progression \n",
    "\n",
    "predicted_close_prices = []\n",
    "\n",
    "for i in tqdm(range(num_days_to_predict)):\n",
    " # Calculate start and end indices\n",
    " previous_data_start_index = max(0, i-num_latent_days)\n",
    " previous_data_end_index = max (0,i)\n",
    "\n",
    " # Acquire test data feauture for those days \n",
    " previous_data = extract_features(augment_features(test_data.iloc[previous_data_start_index : previous_data_end_index]))\n",
    "\n",
    " outcome_scores =[]\n",
    "\n",
    " for outcome in possible_outcomes:\n",
    "  # Append each outcome one by one with replacement to see which sequence generates the highest score \n",
    "  total_data = np.row_stack ((previous_data, outcome))\n",
    "  outcome_scores.append(model.score(total_data))\n",
    "\n",
    "  # Take the most probable outcome as the one with the highest score\n",
    "  most_probable_outcome = possible_outcomes[np.argmax(outcome_scores)]\n",
    "  predicted_close_prices.append(test_data.iloc[i] ['Open'] * (1 + most_probable_outcome[0]))\n"
   ]
  },
  {
   "cell_type": "markdown",
   "metadata": {},
   "source": [
    " - Affichage de resultat"
   ]
  },
  {
   "cell_type": "code",
   "execution_count": null,
   "metadata": {},
   "outputs": [],
   "source": [
    "import matplotlib.pyplot as plt\n",
    "\n",
    "plt.figure(figsize = (30,10), dpi=80 )\n",
    "plt.rcParams.update({'font.size' : 18})\n",
    "\n",
    "x_axis = np.array(test_data.index[ 0:num_days_to_predict], dtype ='datetime64[ms]')\n",
    "plt.plot(x_axis, test_data.iloc[0:num_days_to_predict]['Close'], 'b+-', label =\"Actual close prices\")\n",
    "plt.plot(x_axis, predicted_close_prices, 'ro-', label =\"Predicted close prices\")\n",
    "plt.legend(prop={'size' : 20})\n",
    "plt.show()\n"
   ]
  },
  {
   "cell_type": "code",
   "execution_count": null,
   "metadata": {},
   "outputs": [],
   "source": [
    "ae = abs(test_data.iloc[0:num_days_to_predict]['Close'] - predicted_close_prices)\n",
    "\n",
    "plt.figure(figsize=(30,10), dpi=80)\n",
    "\n",
    "plt.plot(x_axis, ae, 'go-', label=\"Error\")\n",
    "plt.legend(prop={'size': 20})\n",
    "plt.show()"
   ]
  },
  {
   "cell_type": "code",
   "execution_count": null,
   "metadata": {},
   "outputs": [],
   "source": [
    "print(\"Max error observed = \" + str(ae.max()))\n",
    "print(\"Min error observed = \" + str(ae.min()))\n",
    "print(\"Mean error observed = \" + str(ae.mean()))"
   ]
  },
  {
   "cell_type": "markdown",
   "metadata": {},
   "source": [
    "IIX- Tweaking some hyperparameters\n"
   ]
  },
  {
   "cell_type": "code",
   "execution_count": 1,
   "metadata": {},
   "outputs": [],
   "source": [
    "num_latent_days_values = [10, 20, 30, 40, 50, 60]\n",
    "baseline_num_latent_days = 50\n",
    "n_components_values = [4, 6, 8, 10, 12, 14]\n",
    "baseline_n_componets = 10\n",
    "num_steps_values = [10, 20, 40, 50]\n",
    "baseline_num_steps = 50\n",
    "num_days_to_predict = 100 # We don't need to predict as many days as befor"
   ]
  },
  {
   "cell_type": "markdown",
   "metadata": {},
   "source": [
    "IX- Comparing across different values from num_components"
   ]
  },
  {
   "cell_type": "code",
   "execution_count": null,
   "metadata": {},
   "outputs": [],
   "source": [
    "mae_num_components = []\n",
    "for num_component in n_components_values:\n",
    " model = GaussianHMM(n_components=num_component)\n",
    " model.fit(features_train)\n",
    " predicted_close_prices = []\n",
    " for i in tqdm(range(num_days_to_predict)):\n",
    "  # Calculate start and end indices\n",
    "  revious_data_start_index = max(0, i - baseline_num_latent_days)\n",
    "  revious_data_end_index = max(0, i)\n",
    "  # Acquire test data features for these days\n",
    "  previous_data = extract_features(augment_features(test_data.iloc[previous_data_start_index:previous_data_end_index]))\n",
    "\n",
    "  outcome_scores = []\n",
    "  for outcome in possible_outcomes:\n",
    "   # Append each outcome one by one with replacement to see which sequence generates the highest score\n",
    "   total_data = np.row_stack((previous_data, outcome))\n",
    "   outcome_scores.append(model.score(total_data))\n",
    "\n",
    "   # Take the most probable outcome as the one with the highest score\n",
    "   most_probable_outcome = possible_outcomes[np.argmax(outcome_scores)]\n",
    "   predicted_close_prices.append(test_data.iloc[i]['Open'] * (1 + most_probable_outcome[0]))\n",
    "   mae_num_components.append((abs(test_data.iloc[0:num_days_to_predict]['Close'] - predicted_close_prices)).mean())\n",
    "   "
   ]
  },
  {
   "cell_type": "markdown",
   "metadata": {},
   "source": [
    "- Affichage du resultats "
   ]
  },
  {
   "cell_type": "code",
   "execution_count": null,
   "metadata": {},
   "outputs": [],
   "source": [
    "plt.figure(figsize=(30,10), dpi=80)\n",
    "\n",
    "plt.plot(n_components_values, mae_num_components, 'go-', label=\"Error\")\n",
    "plt.xlabel(\"Number of hidden states\")\n",
    "plt.ylabel(\"MAE\")\n",
    "plt.legend(prop={'size': 20})\n",
    "plt.show()"
   ]
  },
  {
   "cell_type": "markdown",
   "metadata": {},
   "source": [
    "X- Comparing across different number of intervals for the feature variables"
   ]
  },
  {
   "cell_type": "code",
   "execution_count": null,
   "metadata": {},
   "outputs": [],
   "source": [
    "mae_num_steps = []\n",
    "model = GaussianHMM(n_components=baseline_n_componets)\n",
    "model.fit(features_train)\n",
    "\n",
    "for num_step in num_steps_values:\n",
    " \n",
    " sample_space_fracocp = np.linspace(fracocp.min(), fracocp.max(), num_step)   sample_space_fraclp = np.linspace(fraclp.min(), frachp.max(), int(num_step/5))\n",
    " sample_space_frachp = np.linspace(frachp.min(), frachp.max(), int(num_step/5))\n",
    " possible_outcomes = np.array(list(itertools.product(sample_space_fracocp, sample_space_frachp, sample_space_fraclp)))\n",
    " \n",
    " predicted_close_prices = []\n",
    "\n",
    " for i in tqdm(range(num_days_to_predict)):\n",
    "\n",
    "  # Calculate start and end indices\n",
    "\n",
    "  previous_data_start_index = max(0, i - baseline_num_latent_days)\n",
    "  previous_data_end_index = max(0, i)\n",
    "\n",
    "  # Acquire test data features for these days\n",
    "  previous_data = extract_features(augment_features(test_data.iloc[previous_data_start_index:previous_data_end_index]))\n",
    "\n",
    "  outcome_scores = []\n",
    "\n",
    "  for outcome in possible_outcomes:\n",
    "\n",
    "   # Append each outcome one by one with replacement to see which sequence generates the highest score \n",
    "   total_data = np.row_stack((previous_data, outcome))\n",
    "   outcome_scores.append(model.score(total_data))\n",
    "\n",
    "   # Take the most probable outcome as the one with the highest score\n",
    "   most_probable_outcome = possible_outcomes[np.argmax(outcome_scores)]\n",
    "   predicted_close_prices.append(test_data.iloc[i]['Open'] * (1 + most_probable_outcome[0]))\n",
    "   mae_num_steps.append((abs(test_data.iloc[0:num_days_to_predict]['Close'] - predicted_close_prices)).mean())"
   ]
  },
  {
   "cell_type": "markdown",
   "metadata": {},
   "source": [
    "- Resultat"
   ]
  },
  {
   "cell_type": "code",
   "execution_count": null,
   "metadata": {},
   "outputs": [],
   "source": [
    "plt.figure(figsize=(30,10), dpi=80)\n",
    "\n",
    "plt.plot(num_steps_values, mae_num_steps, 'go-', label=\"Error\")\n",
    "plt.xlabel(\"Number of intervals for features\")\n",
    "plt.ylabel(\"MAE\")\n",
    "plt.legend(prop={'size': 20})\n",
    "plt.show()"
   ]
  }
 ],
 "metadata": {
  "kernelspec": {
   "display_name": "tphmm",
   "language": "python",
   "name": "python3"
  },
  "language_info": {
   "codemirror_mode": {
    "name": "ipython",
    "version": 3
   },
   "file_extension": ".py",
   "mimetype": "text/x-python",
   "name": "python",
   "nbconvert_exporter": "python",
   "pygments_lexer": "ipython3",
   "version": "3.9.20"
  }
 },
 "nbformat": 4,
 "nbformat_minor": 2
}
