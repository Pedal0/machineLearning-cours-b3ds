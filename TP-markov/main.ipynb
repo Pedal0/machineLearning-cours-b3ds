{
 "cells": [
  {
   "cell_type": "code",
   "execution_count": 28,
   "metadata": {},
   "outputs": [],
   "source": [
    "import yfinance as yf\n",
    "import pandas as pd\n",
    "import numpy as np\n",
    "import datetime as dt\n",
    "import time\n",
    "import requests\n",
    "import io\n",
    "import matplotlib.pyplot as plt\n",
    "from sklearn.model_selection import train_test_split\n",
    "from sklearn.preprocessing import MinMaxScaler\n",
    "from hmmlearn.hmm import GaussianHMM\n"
   ]
  },
  {
   "cell_type": "code",
   "execution_count": 29,
   "metadata": {},
   "outputs": [
    {
     "name": "stdout",
     "output_type": "stream",
     "text": [
      "(6037, 7)\n"
     ]
    },
    {
     "data": {
      "text/html": [
       "<div>\n",
       "<style scoped>\n",
       "    .dataframe tbody tr th:only-of-type {\n",
       "        vertical-align: middle;\n",
       "    }\n",
       "\n",
       "    .dataframe tbody tr th {\n",
       "        vertical-align: top;\n",
       "    }\n",
       "\n",
       "    .dataframe thead th {\n",
       "        text-align: right;\n",
       "    }\n",
       "</style>\n",
       "<table border=\"1\" class=\"dataframe\">\n",
       "  <thead>\n",
       "    <tr style=\"text-align: right;\">\n",
       "      <th></th>\n",
       "      <th>Adj Close</th>\n",
       "      <th>Close</th>\n",
       "      <th>High</th>\n",
       "      <th>Low</th>\n",
       "      <th>Open</th>\n",
       "      <th>Volume</th>\n",
       "    </tr>\n",
       "    <tr>\n",
       "      <th>Date</th>\n",
       "      <th></th>\n",
       "      <th></th>\n",
       "      <th></th>\n",
       "      <th></th>\n",
       "      <th></th>\n",
       "      <th></th>\n",
       "    </tr>\n",
       "  </thead>\n",
       "  <tbody>\n",
       "    <tr>\n",
       "      <th>2000-01-03 00:00:00+00:00</th>\n",
       "      <td>1455.219971</td>\n",
       "      <td>1455.219971</td>\n",
       "      <td>1478.000000</td>\n",
       "      <td>1438.359985</td>\n",
       "      <td>1469.250000</td>\n",
       "      <td>931800000</td>\n",
       "    </tr>\n",
       "    <tr>\n",
       "      <th>2000-01-04 00:00:00+00:00</th>\n",
       "      <td>1399.420044</td>\n",
       "      <td>1399.420044</td>\n",
       "      <td>1455.219971</td>\n",
       "      <td>1397.430054</td>\n",
       "      <td>1455.219971</td>\n",
       "      <td>1009000000</td>\n",
       "    </tr>\n",
       "    <tr>\n",
       "      <th>2000-01-05 00:00:00+00:00</th>\n",
       "      <td>1402.109985</td>\n",
       "      <td>1402.109985</td>\n",
       "      <td>1413.270020</td>\n",
       "      <td>1377.680054</td>\n",
       "      <td>1399.420044</td>\n",
       "      <td>1085500000</td>\n",
       "    </tr>\n",
       "    <tr>\n",
       "      <th>2000-01-06 00:00:00+00:00</th>\n",
       "      <td>1403.449951</td>\n",
       "      <td>1403.449951</td>\n",
       "      <td>1411.900024</td>\n",
       "      <td>1392.099976</td>\n",
       "      <td>1402.109985</td>\n",
       "      <td>1092300000</td>\n",
       "    </tr>\n",
       "    <tr>\n",
       "      <th>2000-01-07 00:00:00+00:00</th>\n",
       "      <td>1441.469971</td>\n",
       "      <td>1441.469971</td>\n",
       "      <td>1441.469971</td>\n",
       "      <td>1400.729980</td>\n",
       "      <td>1403.449951</td>\n",
       "      <td>1225200000</td>\n",
       "    </tr>\n",
       "  </tbody>\n",
       "</table>\n",
       "</div>"
      ],
      "text/plain": [
       "                             Adj Close        Close         High          Low  \\\n",
       "Date                                                                            \n",
       "2000-01-03 00:00:00+00:00  1455.219971  1455.219971  1478.000000  1438.359985   \n",
       "2000-01-04 00:00:00+00:00  1399.420044  1399.420044  1455.219971  1397.430054   \n",
       "2000-01-05 00:00:00+00:00  1402.109985  1402.109985  1413.270020  1377.680054   \n",
       "2000-01-06 00:00:00+00:00  1403.449951  1403.449951  1411.900024  1392.099976   \n",
       "2000-01-07 00:00:00+00:00  1441.469971  1441.469971  1441.469971  1400.729980   \n",
       "\n",
       "                                  Open      Volume  \n",
       "Date                                                \n",
       "2000-01-03 00:00:00+00:00  1469.250000   931800000  \n",
       "2000-01-04 00:00:00+00:00  1455.219971  1009000000  \n",
       "2000-01-05 00:00:00+00:00  1399.420044  1085500000  \n",
       "2000-01-06 00:00:00+00:00  1402.109985  1092300000  \n",
       "2000-01-07 00:00:00+00:00  1403.449951  1225200000  "
      ]
     },
     "execution_count": 29,
     "metadata": {},
     "output_type": "execute_result"
    }
   ],
   "source": [
    "df = pd.read_csv('sp500.csv')\n",
    "print(df.shape)\n",
    "df['Date'] = pd.to_datetime(df['Date'])\n",
    "df.set_index('Date', inplace=True)\n",
    "df.head()"
   ]
  },
  {
   "cell_type": "code",
   "execution_count": 30,
   "metadata": {},
   "outputs": [],
   "source": [
    "# Trier les données par date dans l'ordre décroissant\n",
    "# df = df.sort_values(by='Date', ascending=False).reset_index(drop=True)\n",
    "# print(df.head())"
   ]
  },
  {
   "cell_type": "code",
   "execution_count": 33,
   "metadata": {},
   "outputs": [
    {
     "name": "stderr",
     "output_type": "stream",
     "text": [
      "Fitting a model with 10199 free scalar parameters with only 6037 data points will result in a degenerate solution.\n"
     ]
    }
   ],
   "source": [
    "# traitement des données manquantes\n",
    "df = df.dropna()\n",
    "\n",
    "# Crée et entraîne le modèle HMM\n",
    "model = GaussianHMM(n_components=100, covariance_type=\"full\", n_iter=100000)\n",
    "model.fit(df['Close'].values.reshape(-1, 1))\n",
    "\n",
    "\n",
    "# Crée un graphique pour chaque état caché\n",
    "hidden_states = model.predict(df['Close'].values.reshape(-1, 1))\n",
    "\n",
    "# Crée une prédiction de prix\n",
    "futur = 365\n",
    "pred = model.sample(n_samples=futur, currstate=hidden_states[-1])\n",
    "\n",
    "# Tracer les données historiques\n",
    "plt.figure(figsize=(14, 7))\n",
    "plt.plot(df['Close'], label='Close Price')\n",
    "\n",
    "# Plage d'indices pour les données futures\n",
    "last_index = df.index[-1]\n",
    "future_index = pd.date_range(start=last_index, periods=futur + 1, freq='B')[1:]\n",
    "\n",
    "# Tracer les données futures\n",
    "plt.plot(future_index, pred[0], label='Predicted Price', color='r')\n",
    "\n",
    "# Afficher le graphique\n",
    "plt.legend()\n",
    "plt.show()\n",
    "\n",
    "# Zoom sur les données futures\n",
    "plt.figure(figsize=(14, 7))\n",
    "plt.plot(future_index, pred[0], label='Predicted Price', color='r')\n",
    "plt.legend()\n",
    "plt.show()\n"
   ]
  }
 ],
 "metadata": {
  "kernelspec": {
   "display_name": "app-venv",
   "language": "python",
   "name": "python3"
  },
  "language_info": {
   "codemirror_mode": {
    "name": "ipython",
    "version": 3
   },
   "file_extension": ".py",
   "mimetype": "text/x-python",
   "name": "python",
   "nbconvert_exporter": "python",
   "pygments_lexer": "ipython3",
   "version": "3.12.4"
  }
 },
 "nbformat": 4,
 "nbformat_minor": 2
}
