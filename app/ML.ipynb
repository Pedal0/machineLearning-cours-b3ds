{
 "cells": [
  {
   "cell_type": "code",
   "execution_count": 18,
   "metadata": {},
   "outputs": [
    {
     "data": {
      "text/plain": [
       "'2.1.1'"
      ]
     },
     "execution_count": 18,
     "metadata": {},
     "output_type": "execute_result"
    }
   ],
   "source": [
    "import numpy as np\n",
    "numpy.version.version"
   ]
  },
  {
   "cell_type": "code",
   "execution_count": 19,
   "metadata": {},
   "outputs": [
    {
     "data": {
      "text/plain": [
       "'2.2.3'"
      ]
     },
     "execution_count": 19,
     "metadata": {},
     "output_type": "execute_result"
    }
   ],
   "source": [
    "import pandas as pd\n",
    "pandas.__version__"
   ]
  },
  {
   "cell_type": "markdown",
   "metadata": {},
   "source": [
    "Numpy : Manipulation de matrices et calculs scientifique"
   ]
  },
  {
   "cell_type": "code",
   "execution_count": 20,
   "metadata": {},
   "outputs": [],
   "source": [
    "# Création d'un tableau numpy\n",
    "array=np.array([[1,2,3],[4,5,6]])"
   ]
  },
  {
   "cell_type": "code",
   "execution_count": 21,
   "metadata": {},
   "outputs": [
    {
     "name": "stdout",
     "output_type": "stream",
     "text": [
      "Taille du tableau: 6\n",
      "Forme du tableau: (2, 3)\n"
     ]
    }
   ],
   "source": [
    "#affichage de la taille et de la forme\n",
    "print(\"Taille du tableau:\" , array.size)\n",
    "print(\"Forme du tableau:\" , array.shape)"
   ]
  },
  {
   "cell_type": "code",
   "execution_count": 22,
   "metadata": {},
   "outputs": [
    {
     "name": "stdout",
     "output_type": "stream",
     "text": [
      "Somme de tous les éléments: 21\n",
      "Moyenne par colonne: [2.5 3.5 4.5]\n"
     ]
    }
   ],
   "source": [
    " # Operation de base :\n",
    "print(\"Somme de tous les éléments:\", np.sum(array))\n",
    "print(\"Moyenne par colonne:\", np.mean(array,axis=0))"
   ]
  },
  {
   "cell_type": "markdown",
   "metadata": {},
   "source": [
    "Pandas: Manipulation et analyses de données"
   ]
  },
  {
   "cell_type": "code",
   "execution_count": 29,
   "metadata": {},
   "outputs": [
    {
     "ename": "SyntaxError",
     "evalue": "invalid syntax. Perhaps you forgot a comma? (2732027021.py, line 11)",
     "output_type": "error",
     "traceback": [
      "\u001b[1;36m  Cell \u001b[1;32mIn[29], line 11\u001b[1;36m\u001b[0m\n\u001b[1;33m    print(df['Nom'] where df[df['Age']>30])\u001b[0m\n\u001b[1;37m          ^\u001b[0m\n\u001b[1;31mSyntaxError\u001b[0m\u001b[1;31m:\u001b[0m invalid syntax. Perhaps you forgot a comma?\n"
     ]
    }
   ],
   "source": [
    "# Création d'une DataFrame\n",
    "data = {'Nom': [\"Alice\", \"Bob\", \"Chalie\"], 'Age': [25,30,35], 'Ville': [\"Paris\",\"Lyon\", \"Marseil\"]}\n",
    "df = pd.DataFrame(data)\n",
    "\n",
    "# Affichage des premieres lignes\n",
    "print(df.head())\n",
    "# Opération sur les colonnes\n",
    "print(\"Age moyen\", df['Age'].mean())\n",
    "# Filtrer les données\n",
    "print(df[df['Age']>30])\n"
   ]
  },
  {
   "cell_type": "markdown",
   "metadata": {},
   "source": []
  },
  {
   "cell_type": "code",
   "execution_count": null,
   "metadata": {},
   "outputs": [],
   "source": []
  }
 ],
 "metadata": {
  "kernelspec": {
   "display_name": "app-venv",
   "language": "python",
   "name": "app-venv"
  },
  "language_info": {
   "codemirror_mode": {
    "name": "ipython",
    "version": 3
   },
   "file_extension": ".py",
   "mimetype": "text/x-python",
   "name": "python",
   "nbconvert_exporter": "python",
   "pygments_lexer": "ipython3",
   "version": "3.12.4"
  }
 },
 "nbformat": 4,
 "nbformat_minor": 2
}
